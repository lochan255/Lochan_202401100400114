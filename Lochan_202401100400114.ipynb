{
  "nbformat": 4,
  "nbformat_minor": 0,
  "metadata": {
    "colab": {
      "provenance": [],
      "authorship_tag": "ABX9TyMP+cBzDK1/UbiAbmXs5KcW",
      "include_colab_link": true
    },
    "kernelspec": {
      "name": "python3",
      "display_name": "Python 3"
    },
    "language_info": {
      "name": "python"
    }
  },
  "cells": [
    {
      "cell_type": "markdown",
      "metadata": {
        "id": "view-in-github",
        "colab_type": "text"
      },
      "source": [
        "<a href=\"https://colab.research.google.com/github/lochan255/Lochan_202401100400114/blob/main/Lochan_202401100400114.ipynb\" target=\"_parent\"><img src=\"https://colab.research.google.com/assets/colab-badge.svg\" alt=\"Open In Colab\"/></a>"
      ]
    },
    {
      "cell_type": "code",
      "execution_count": null,
      "metadata": {
        "id": "vvSXSQ8bYlXM"
      },
      "outputs": [],
      "source": [
        "# Constants for players and empty cells\n",
        "EMPTY = '-'\n",
        "MY_MARK = 'X'\n",
        "OPPONENT_MARK = 'O'\n",
        "\n",
        "# Function to display the board\n",
        "def show_board(board):\n",
        "    for row in board:\n",
        "        print(\" | \".join(row))\n",
        "        print(\"-\" * 9)\n",
        "\n",
        "# Check if the board is full\n",
        "def is_full(board):\n",
        "    return all(cell != EMPTY for row in board for cell in row)\n",
        "\n",
        "# Check if a player has won\n",
        "def has_won(board, player):\n",
        "    for i in range(3):\n",
        "        if all(board[i][j] == player for j in range(3)) or all(board[j][i] == player for j in range(3)):\n",
        "            return True\n",
        "    if all(board[i][i] == player for i in range(3)) or all(board[i][2 - i] == player for i in range(3)):\n",
        "        return True\n",
        "    return False\n",
        "\n",
        "# My custom heuristic for evaluating moves\n",
        "def my_heuristic(board):\n",
        "    score = 0\n",
        "    if board[1][1] == MY_MARK:\n",
        "        score += 3\n",
        "    corners = [(0, 0), (0, 2), (2, 0), (2, 2)]\n",
        "    for (i, j) in corners:\n",
        "        if board[i][j] == MY_MARK:\n",
        "            score += 2\n",
        "    if has_won(board, MY_MARK):\n",
        "        score += 10\n",
        "    if has_won(board, OPPONENT_MARK):\n",
        "        score -= 10\n",
        "    return score\n",
        "\n",
        "# Function to find the best move\n",
        "def find_move(board):\n",
        "    top_score = -float('inf')\n",
        "    move = None\n",
        "    for i in range(3):\n",
        "        for j in range(3):\n",
        "            if board[i][j] == EMPTY:\n",
        "                board[i][j] = MY_MARK\n",
        "                current_score = my_heuristic(board)\n",
        "                board[i][j] = EMPTY\n",
        "                if current_score > top_score:\n",
        "                    top_score = current_score\n",
        "                    move = (i, j)\n",
        "    return move\n",
        "\n",
        "# Main game loop\n",
        "def start_game():\n",
        "    board = [[EMPTY for _ in range(3)] for _ in range(3)]\n",
        "    current_player = MY_MARK  # AI starts first\n",
        "\n",
        "    while True:\n",
        "        show_board(board)\n",
        "        if current_player == MY_MARK:\n",
        "            print(\"AI's turn (X):\")\n",
        "            move = find_move(board)\n",
        "            board[move[0]][move[1]] = MY_MARK\n",
        "        else:\n",
        "            print(\"Your turn (O):\")\n",
        "            row = int(input(\"Enter row (0, 1, 2): \"))\n",
        "            col = int(input(\"Enter column (0, 1, 2): \"))\n",
        "            if board[row][col] != EMPTY:\n",
        "                print(\"Invalid move! Try again.\")\n",
        "                continue\n",
        "            board[row][col] = OPPONENT_MARK\n",
        "\n",
        "        if has_won(board, current_player):\n",
        "            show_board(board)\n",
        "            print(f\"{current_player} wins!\")\n",
        "            break\n",
        "        if is_full(board):\n",
        "            show_board(board)\n",
        "            print(\"It's a tie!\")\n",
        "            break\n",
        "\n",
        "        current_player = OPPONENT_MARK if current_player == MY_MARK else MY_MARK\n",
        "\n",
        "# Start the game\n",
        "start_game()"
      ]
    }
  ]
}